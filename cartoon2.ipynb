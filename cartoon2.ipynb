{
  "nbformat": 4,
  "nbformat_minor": 0,
  "metadata": {
    "colab": {
      "name": "cartoon2.ipynb",
      "provenance": [],
      "authorship_tag": "ABX9TyPk3iDVsJwK/IWzAJfhzSx3",
      "include_colab_link": true
    },
    "kernelspec": {
      "name": "python3",
      "display_name": "Python 3"
    }
  },
  "cells": [
    {
      "cell_type": "markdown",
      "metadata": {
        "id": "view-in-github",
        "colab_type": "text"
      },
      "source": [
        "<a href=\"https://colab.research.google.com/github/ashukanderi/cartooniser/blob/master/cartoon2.ipynb\" target=\"_parent\"><img src=\"https://colab.research.google.com/assets/colab-badge.svg\" alt=\"Open In Colab\"/></a>"
      ]
    },
    {
      "cell_type": "code",
      "metadata": {
        "id": "K1KDgmIWwNYc",
        "colab_type": "code",
        "colab": {
          "base_uri": "https://localhost:8080/",
          "height": 34
        },
        "outputId": "0d14a86d-578f-4610-9f44-c7a7b204dc09"
      },
      "source": [
        "def xrange(x):\n",
        "\n",
        "    return iter(range(x))\n",
        "\n",
        "\n",
        "import cv2\n",
        "class Cartoonizer: \n",
        "    \"\"\"Cartoonizer effect \n",
        "        A class that applies a cartoon effect to an image. \n",
        "        The class uses a bilateral filter and adaptive thresholding to create \n",
        "        a cartoon effect. \n",
        "    \"\"\"\n",
        "    def __init__(self): \n",
        "        pass\n",
        "  \n",
        "    def render(self, img_rgb): \n",
        "        img_rgb = cv2.imread('/content/325323_2200-732x549.jpg') \n",
        "        img_rgb = cv2.resize(img_rgb, (1366,768)) \n",
        "        numDownSamples = 2       # number of downscaling steps \n",
        "        numBilateralFilters = 50  # number of bilateral filtering steps \n",
        "  \n",
        "        # -- STEP 1 -- \n",
        "  \n",
        "        # downsample image using Gaussian pyramid \n",
        "        img_color = img_rgb \n",
        "        for _ in xrange(numDownSamples): \n",
        "            img_color = cv2.pyrDown(img_color) \n",
        "  \n",
        "        #cv2.imshow(\"downcolor\",img_color) \n",
        "        #cv2.waitKey(0) \n",
        "        # repeatedly apply small bilateral filter instead of applying \n",
        "        # one large filter \n",
        "        for _ in xrange(numBilateralFilters): \n",
        "            img_color = cv2.bilateralFilter(img_color, 9, 9, 7) \n",
        "  \n",
        "        #cv2.imshow(\"bilateral filter\",img_color) \n",
        "        #cv2.waitKey(0) \n",
        "        # upsample image to original size \n",
        "        for _ in xrange(numDownSamples): \n",
        "            img_color = cv2.pyrUp(img_color) \n",
        "        #cv2.imshow(\"upscaling\",img_color) \n",
        "        #cv2.waitKey(0) \n",
        "  \n",
        "        # -- STEPS 2 and 3 -- \n",
        "        # convert to grayscale and apply median blur \n",
        "        img_gray = cv2.cvtColor(img_rgb, cv2.COLOR_RGB2GRAY) \n",
        "        img_blur = cv2.medianBlur(img_gray, 3) \n",
        "        #cv2.imshow(\"grayscale+median blur\",img_color) \n",
        "        #cv2.waitKey(0) \n",
        "  \n",
        "        # -- STEP 4 -- \n",
        "        # detect and enhance edges \n",
        "        img_edge = cv2.adaptiveThreshold(img_blur, 255, \n",
        "                                         cv2.ADAPTIVE_THRESH_MEAN_C, \n",
        "                                         cv2.THRESH_BINARY, 9, 2) \n",
        "        #cv2.imshow(\"edge\",img_edge) \n",
        "        #cv2.waitKey(0) \n",
        "  \n",
        "        # -- STEP 5 -- \n",
        "        # convert back to color so that it can be bit-ANDed with color image \n",
        "        (x,y,z) = img_color.shape \n",
        "        img_edge = cv2.resize(img_edge,(y,x))  \n",
        "        img_edge = cv2.cvtColor(img_edge, cv2.COLOR_GRAY2RGB) \n",
        "        cv2.imwrite(\"edge.png\",img_edge) \n",
        "        #cv2.imshow(\"step 5\", img_edge) \n",
        "        #cv2.waitKey(0) \n",
        "        #img_edge = cv2.resize(img_edge,(i for i in img_color.shape[:2])) \n",
        "        #print img_edge.shape, img_color.shape \n",
        "        return cv2.bitwise_and(img_color, img_edge) \n",
        "  \n",
        "tmp_canvas = Cartoonizer() \n",
        "  \n",
        "file_name = \"Screenshot.png\" #File_name will come here \n",
        "res = tmp_canvas.render(file_name) \n",
        "  \n",
        "cv2.imwrite(\"Cartoon version.jpg\", res) "
      ],
      "execution_count": 12,
      "outputs": [
        {
          "output_type": "execute_result",
          "data": {
            "text/plain": [
              "True"
            ]
          },
          "metadata": {
            "tags": []
          },
          "execution_count": 12
        }
      ]
    },
    {
      "cell_type": "code",
      "metadata": {
        "id": "s3-OCj5fwR0D",
        "colab_type": "code",
        "colab": {}
      },
      "source": [
        ""
      ],
      "execution_count": null,
      "outputs": []
    }
  ]
}